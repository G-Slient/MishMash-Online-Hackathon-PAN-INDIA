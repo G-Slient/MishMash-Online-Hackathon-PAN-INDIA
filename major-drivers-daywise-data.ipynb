{
 "cells": [
  {
   "cell_type": "markdown",
   "metadata": {},
   "source": [
    "# Unilever Data Science POC Use Case\n",
    "**Problem Definition:** One of our brands is going through some major changes in business execution plans and\n",
    "will like to know.\n",
    "\n",
    "1.  What are the major drivers for sales(EQ)?"
   ]
  },
  {
   "cell_type": "markdown",
   "metadata": {},
   "source": [
    "### Approach to find the Major Drivers:"
   ]
  },
  {
   "cell_type": "markdown",
   "metadata": {},
   "source": [
    "- Train.csv which is a Daywise Data is used for building the model to calculate the feature importance.\n",
    "- The feature importance of a best performing model is calaculated to analyse the major drivers of EQ sales."
   ]
  },
  {
   "cell_type": "markdown",
   "metadata": {},
   "source": [
    "## Dictionary\n",
    "1. Day                                   \n",
    "2. EQ                                    \n",
    "3. Social_Search_Impressions             \n",
    "4. Social_Search_Working_cost            \n",
    "5. Digital_Impressions                   \n",
    "6. Digital_Working_cost                 \n",
    "7. Print_Impressions.Ads40               \n",
    "8. Print_Working_Cost.Ads50              \n",
    "9. OOH_Impressions                   \n",
    "10. OOH_Working_Cost                    \n",
    "11. SOS_pct                             \n",
    "12. Digital_Impressions_pct               \n",
    "13. CCFOT                                    \n",
    "14. Median_Temp                              \n",
    "15. Median_Rainfall                      \n",
    "16. Fuel_Price                            \n",
    "17. Inflation                           \n",
    "18. Trade_Invest                        \n",
    "19. Brand_Equity                          \n",
    "20. Avg_EQ_Price                           \n",
    "21. Any_Promo_pct_ACV                   \n",
    "22. Any_Feat_pct_ACV                     \n",
    "23. Any_Disp_pct_ACV                     \n",
    "24. EQ_Base_Price                          \n",
    "25. Est_ACV_Selling                       \n",
    "26. pct_ACV                               \n",
    "27. Avg_no_of_Items                       \n",
    "28. pct_PromoMarketDollars_Category       \n",
    "29. RPI_Category                           \n",
    "30. Magazine_Impressions_pct               \n",
    "31. TV_GRP                                \n",
    "32. Competitor1_RPI                       \n",
    "33. Competitor2_RPI                      \n",
    "34. Competitor3_RPI                         \n",
    "35. Competitor4_RPI                      \n",
    "36. EQ_Category                           \n",
    "37. EQ_Subcategory                        \n",
    "38. pct_PromoMarketDollars_Subcategory     \n",
    "39. RPI_Subcategory                      "
   ]
  },
  {
   "cell_type": "markdown",
   "metadata": {},
   "source": [
    "# Import Libraries"
   ]
  },
  {
   "cell_type": "code",
   "execution_count": 64,
   "metadata": {},
   "outputs": [],
   "source": [
    "import numpy as np\n",
    "import pandas as pd\n",
    "import matplotlib.pyplot as plt\n",
    "import seaborn as sns\n",
    "import gc\n",
    "import os\n",
    "\n",
    "%matplotlib inline\n",
    "\n",
    "plt.rcParams['figure.figsize'] = [15, 8]\n",
    "plt.style.use(\"fivethirtyeight\")\n",
    "\n",
    "import warnings\n",
    "warnings.simplefilter('ignore')\n",
    "\n",
    "pd.options.display.max_rows = 500\n",
    "pd.options.display.max_columns = 500\n",
    "\n",
    "from sklearn.preprocessing import LabelEncoder,StandardScaler\n",
    "from sklearn.model_selection import cross_val_score, train_test_split\n",
    "from sklearn.metrics import make_scorer, mean_squared_error\n",
    "\n",
    "\n",
    "# Regression\n",
    "from sklearn.linear_model import LinearRegression, Ridge, ElasticNet, Lasso\n",
    "from sklearn.naive_bayes import GaussianNB\n",
    "from sklearn.neighbors import KNeighborsRegressor\n",
    "from sklearn.svm import SVR\n",
    "from sklearn.tree import DecisionTreeRegressor, ExtraTreeRegressor\n",
    "from sklearn.ensemble import AdaBoostRegressor, RandomForestRegressor, BaggingRegressor, ExtraTreesRegressor, GradientBoostingRegressor, RandomForestRegressor, VotingRegressor\n",
    "\n",
    "import xgboost as xgb\n",
    "import lightgbm as lgb\n",
    "import catboost as cat"
   ]
  },
  {
   "cell_type": "markdown",
   "metadata": {},
   "source": [
    "## Import the Dataset "
   ]
  },
  {
   "cell_type": "code",
   "execution_count": 2,
   "metadata": {},
   "outputs": [],
   "source": [
    "train = pd.read_csv(\"Training-Data-Sets - NEWDATA.csv\")\n",
    "test = pd.read_excel(\"Test dataset v1.xlsx\")"
   ]
  },
  {
   "cell_type": "code",
   "execution_count": 3,
   "metadata": {},
   "outputs": [
    {
     "name": "stdout",
     "output_type": "stream",
     "text": [
      "(12000, 39)\n",
      "(39, 39)\n"
     ]
    }
   ],
   "source": [
    "print(train.shape)\n",
    "print(test.shape)"
   ]
  },
  {
   "cell_type": "code",
   "execution_count": 4,
   "metadata": {},
   "outputs": [
    {
     "data": {
      "text/html": [
       "<div>\n",
       "<style scoped>\n",
       "    .dataframe tbody tr th:only-of-type {\n",
       "        vertical-align: middle;\n",
       "    }\n",
       "\n",
       "    .dataframe tbody tr th {\n",
       "        vertical-align: top;\n",
       "    }\n",
       "\n",
       "    .dataframe thead th {\n",
       "        text-align: right;\n",
       "    }\n",
       "</style>\n",
       "<table border=\"1\" class=\"dataframe\">\n",
       "  <thead>\n",
       "    <tr style=\"text-align: right;\">\n",
       "      <th></th>\n",
       "      <th>Day</th>\n",
       "      <th>EQ</th>\n",
       "      <th>Social_Search_Impressions</th>\n",
       "      <th>Social_Search_Working_cost</th>\n",
       "      <th>Digital_Impressions</th>\n",
       "      <th>Digital_Working_cost</th>\n",
       "      <th>Print_Impressions.Ads40</th>\n",
       "      <th>Print_Working_Cost.Ads50</th>\n",
       "      <th>OOH_Impressions</th>\n",
       "      <th>OOH_Working_Cost</th>\n",
       "      <th>...</th>\n",
       "      <th>Magazine_Impressions_pct</th>\n",
       "      <th>TV_GRP</th>\n",
       "      <th>Competitor1_RPI</th>\n",
       "      <th>Competitor2_RPI</th>\n",
       "      <th>Competitor3_RPI</th>\n",
       "      <th>Competitor4_RPI</th>\n",
       "      <th>EQ_Category</th>\n",
       "      <th>EQ_Subcategory</th>\n",
       "      <th>pct_PromoMarketDollars_Subcategory</th>\n",
       "      <th>RPI_Subcategory</th>\n",
       "    </tr>\n",
       "  </thead>\n",
       "  <tbody>\n",
       "    <tr>\n",
       "      <td>0</td>\n",
       "      <td>1</td>\n",
       "      <td>718.458667</td>\n",
       "      <td>22256928</td>\n",
       "      <td>56812</td>\n",
       "      <td>7724107</td>\n",
       "      <td>238700</td>\n",
       "      <td>151438</td>\n",
       "      <td>1044</td>\n",
       "      <td>112229070</td>\n",
       "      <td>2133614</td>\n",
       "      <td>...</td>\n",
       "      <td>54.17</td>\n",
       "      <td>16.46</td>\n",
       "      <td>105.71</td>\n",
       "      <td>36.13</td>\n",
       "      <td>46.36</td>\n",
       "      <td>71.83</td>\n",
       "      <td>5420048</td>\n",
       "      <td>475559</td>\n",
       "      <td>0.3766</td>\n",
       "      <td>45.77</td>\n",
       "    </tr>\n",
       "    <tr>\n",
       "      <td>1</td>\n",
       "      <td>2</td>\n",
       "      <td>25.521137</td>\n",
       "      <td>4239408</td>\n",
       "      <td>105695</td>\n",
       "      <td>5844288</td>\n",
       "      <td>188902</td>\n",
       "      <td>264008</td>\n",
       "      <td>113582</td>\n",
       "      <td>284597324</td>\n",
       "      <td>1719318</td>\n",
       "      <td>...</td>\n",
       "      <td>65.79</td>\n",
       "      <td>15.64</td>\n",
       "      <td>111.79</td>\n",
       "      <td>43.31</td>\n",
       "      <td>47.58</td>\n",
       "      <td>67.90</td>\n",
       "      <td>12155631</td>\n",
       "      <td>371540</td>\n",
       "      <td>0.2515</td>\n",
       "      <td>35.02</td>\n",
       "    </tr>\n",
       "    <tr>\n",
       "      <td>2</td>\n",
       "      <td>3</td>\n",
       "      <td>268.288044</td>\n",
       "      <td>6708500</td>\n",
       "      <td>87686</td>\n",
       "      <td>13008485</td>\n",
       "      <td>19704</td>\n",
       "      <td>150505</td>\n",
       "      <td>38501</td>\n",
       "      <td>807781054</td>\n",
       "      <td>1569740</td>\n",
       "      <td>...</td>\n",
       "      <td>45.08</td>\n",
       "      <td>23.91</td>\n",
       "      <td>110.15</td>\n",
       "      <td>38.26</td>\n",
       "      <td>49.26</td>\n",
       "      <td>72.70</td>\n",
       "      <td>11939870</td>\n",
       "      <td>225984</td>\n",
       "      <td>0.3679</td>\n",
       "      <td>46.22</td>\n",
       "    </tr>\n",
       "    <tr>\n",
       "      <td>3</td>\n",
       "      <td>4</td>\n",
       "      <td>209.071599</td>\n",
       "      <td>36835247</td>\n",
       "      <td>70791</td>\n",
       "      <td>2520814</td>\n",
       "      <td>200111</td>\n",
       "      <td>253458</td>\n",
       "      <td>53719</td>\n",
       "      <td>667441334</td>\n",
       "      <td>922723</td>\n",
       "      <td>...</td>\n",
       "      <td>75.24</td>\n",
       "      <td>13.06</td>\n",
       "      <td>116.74</td>\n",
       "      <td>39.37</td>\n",
       "      <td>44.21</td>\n",
       "      <td>73.01</td>\n",
       "      <td>7045541</td>\n",
       "      <td>551342</td>\n",
       "      <td>0.0504</td>\n",
       "      <td>38.10</td>\n",
       "    </tr>\n",
       "    <tr>\n",
       "      <td>4</td>\n",
       "      <td>5</td>\n",
       "      <td>3482.169185</td>\n",
       "      <td>23693467</td>\n",
       "      <td>75610</td>\n",
       "      <td>9276779</td>\n",
       "      <td>65532</td>\n",
       "      <td>278877</td>\n",
       "      <td>95178</td>\n",
       "      <td>74045467</td>\n",
       "      <td>1834970</td>\n",
       "      <td>...</td>\n",
       "      <td>56.85</td>\n",
       "      <td>40.72</td>\n",
       "      <td>115.18</td>\n",
       "      <td>36.85</td>\n",
       "      <td>45.46</td>\n",
       "      <td>75.84</td>\n",
       "      <td>11488805</td>\n",
       "      <td>254143</td>\n",
       "      <td>0.2219</td>\n",
       "      <td>39.16</td>\n",
       "    </tr>\n",
       "  </tbody>\n",
       "</table>\n",
       "<p>5 rows × 39 columns</p>\n",
       "</div>"
      ],
      "text/plain": [
       "   Day           EQ  Social_Search_Impressions  Social_Search_Working_cost  \\\n",
       "0    1   718.458667                   22256928                       56812   \n",
       "1    2    25.521137                    4239408                      105695   \n",
       "2    3   268.288044                    6708500                       87686   \n",
       "3    4   209.071599                   36835247                       70791   \n",
       "4    5  3482.169185                   23693467                       75610   \n",
       "\n",
       "   Digital_Impressions  Digital_Working_cost  Print_Impressions.Ads40  \\\n",
       "0              7724107                238700                   151438   \n",
       "1              5844288                188902                   264008   \n",
       "2             13008485                 19704                   150505   \n",
       "3              2520814                200111                   253458   \n",
       "4              9276779                 65532                   278877   \n",
       "\n",
       "   Print_Working_Cost.Ads50  OOH_Impressions  OOH_Working_Cost  ...  \\\n",
       "0                      1044        112229070           2133614  ...   \n",
       "1                    113582        284597324           1719318  ...   \n",
       "2                     38501        807781054           1569740  ...   \n",
       "3                     53719        667441334            922723  ...   \n",
       "4                     95178         74045467           1834970  ...   \n",
       "\n",
       "   Magazine_Impressions_pct  TV_GRP  Competitor1_RPI  Competitor2_RPI  \\\n",
       "0                     54.17   16.46           105.71            36.13   \n",
       "1                     65.79   15.64           111.79            43.31   \n",
       "2                     45.08   23.91           110.15            38.26   \n",
       "3                     75.24   13.06           116.74            39.37   \n",
       "4                     56.85   40.72           115.18            36.85   \n",
       "\n",
       "   Competitor3_RPI  Competitor4_RPI  EQ_Category  EQ_Subcategory  \\\n",
       "0            46.36            71.83      5420048          475559   \n",
       "1            47.58            67.90     12155631          371540   \n",
       "2            49.26            72.70     11939870          225984   \n",
       "3            44.21            73.01      7045541          551342   \n",
       "4            45.46            75.84     11488805          254143   \n",
       "\n",
       "   pct_PromoMarketDollars_Subcategory  RPI_Subcategory  \n",
       "0                              0.3766            45.77  \n",
       "1                              0.2515            35.02  \n",
       "2                              0.3679            46.22  \n",
       "3                              0.0504            38.10  \n",
       "4                              0.2219            39.16  \n",
       "\n",
       "[5 rows x 39 columns]"
      ]
     },
     "execution_count": 4,
     "metadata": {},
     "output_type": "execute_result"
    }
   ],
   "source": [
    "train.head()"
   ]
  },
  {
   "cell_type": "code",
   "execution_count": 7,
   "metadata": {},
   "outputs": [
    {
     "data": {
      "text/html": [
       "<div>\n",
       "<style scoped>\n",
       "    .dataframe tbody tr th:only-of-type {\n",
       "        vertical-align: middle;\n",
       "    }\n",
       "\n",
       "    .dataframe tbody tr th {\n",
       "        vertical-align: top;\n",
       "    }\n",
       "\n",
       "    .dataframe thead th {\n",
       "        text-align: right;\n",
       "    }\n",
       "</style>\n",
       "<table border=\"1\" class=\"dataframe\">\n",
       "  <thead>\n",
       "    <tr style=\"text-align: right;\">\n",
       "      <th></th>\n",
       "      <th>Period</th>\n",
       "      <th>EQ</th>\n",
       "      <th>Social_Search_Impressions</th>\n",
       "      <th>Social_Search_Working_cost</th>\n",
       "      <th>Digital_Impressions</th>\n",
       "      <th>Digital_Working_cost</th>\n",
       "      <th>Print_Impressions.Ads40</th>\n",
       "      <th>Print_Working_Cost.Ads50</th>\n",
       "      <th>OOH_Impressions</th>\n",
       "      <th>OOH_Working_Cost</th>\n",
       "      <th>...</th>\n",
       "      <th>Magazine_Impressions_pct</th>\n",
       "      <th>TV_GRP</th>\n",
       "      <th>Competitor1_RPI</th>\n",
       "      <th>Competitor2_RPI</th>\n",
       "      <th>Competitor3_RPI</th>\n",
       "      <th>Competitor4_RPI</th>\n",
       "      <th>EQ_Category</th>\n",
       "      <th>EQ_Subcategory</th>\n",
       "      <th>pct_PromoMarketDollars_Subcategory</th>\n",
       "      <th>RPI_Subcategory</th>\n",
       "    </tr>\n",
       "  </thead>\n",
       "  <tbody>\n",
       "    <tr>\n",
       "      <td>0</td>\n",
       "      <td>2016 - Period:1</td>\n",
       "      <td>504.784933</td>\n",
       "      <td>2019283.0</td>\n",
       "      <td>5493.0</td>\n",
       "      <td>37148.2</td>\n",
       "      <td>2045.282</td>\n",
       "      <td>0.000012</td>\n",
       "      <td>0.000012</td>\n",
       "      <td>1.203045e+09</td>\n",
       "      <td>2220633.0</td>\n",
       "      <td>...</td>\n",
       "      <td>27.702433</td>\n",
       "      <td>21.300</td>\n",
       "      <td>97.173365</td>\n",
       "      <td>35.557371</td>\n",
       "      <td>44.502717</td>\n",
       "      <td>63.377268</td>\n",
       "      <td>1728388.673</td>\n",
       "      <td>331927.5394</td>\n",
       "      <td>0.162732</td>\n",
       "      <td>40.560563</td>\n",
       "    </tr>\n",
       "    <tr>\n",
       "      <td>1</td>\n",
       "      <td>2016 - Period:2</td>\n",
       "      <td>490.226477</td>\n",
       "      <td>4564738.0</td>\n",
       "      <td>12938.0</td>\n",
       "      <td>50886.8</td>\n",
       "      <td>2370.584</td>\n",
       "      <td>0.000014</td>\n",
       "      <td>0.000015</td>\n",
       "      <td>1.944356e+09</td>\n",
       "      <td>469895.0</td>\n",
       "      <td>...</td>\n",
       "      <td>21.432628</td>\n",
       "      <td>12.334</td>\n",
       "      <td>97.850760</td>\n",
       "      <td>37.223072</td>\n",
       "      <td>45.720077</td>\n",
       "      <td>62.731742</td>\n",
       "      <td>1900859.879</td>\n",
       "      <td>334611.3806</td>\n",
       "      <td>0.231650</td>\n",
       "      <td>40.046301</td>\n",
       "    </tr>\n",
       "    <tr>\n",
       "      <td>2</td>\n",
       "      <td>2016 - Period:3</td>\n",
       "      <td>479.244686</td>\n",
       "      <td>1029384.0</td>\n",
       "      <td>6546.0</td>\n",
       "      <td>253333.2</td>\n",
       "      <td>3180.888</td>\n",
       "      <td>0.000016</td>\n",
       "      <td>0.000017</td>\n",
       "      <td>9.984054e+08</td>\n",
       "      <td>4465061.0</td>\n",
       "      <td>...</td>\n",
       "      <td>29.726275</td>\n",
       "      <td>23.213</td>\n",
       "      <td>96.397739</td>\n",
       "      <td>40.800563</td>\n",
       "      <td>41.822953</td>\n",
       "      <td>62.090417</td>\n",
       "      <td>2036436.906</td>\n",
       "      <td>387148.3582</td>\n",
       "      <td>0.125394</td>\n",
       "      <td>40.411115</td>\n",
       "    </tr>\n",
       "    <tr>\n",
       "      <td>3</td>\n",
       "      <td>2016 - Period:4</td>\n",
       "      <td>489.057428</td>\n",
       "      <td>902938.0</td>\n",
       "      <td>3928.0</td>\n",
       "      <td>3426239.0</td>\n",
       "      <td>13595.398</td>\n",
       "      <td>0.000016</td>\n",
       "      <td>0.000019</td>\n",
       "      <td>3.039816e+09</td>\n",
       "      <td>1031855.0</td>\n",
       "      <td>...</td>\n",
       "      <td>30.326275</td>\n",
       "      <td>14.456</td>\n",
       "      <td>98.936519</td>\n",
       "      <td>36.576140</td>\n",
       "      <td>41.578429</td>\n",
       "      <td>63.374358</td>\n",
       "      <td>2113635.013</td>\n",
       "      <td>482489.6740</td>\n",
       "      <td>0.056603</td>\n",
       "      <td>42.213246</td>\n",
       "    </tr>\n",
       "    <tr>\n",
       "      <td>4</td>\n",
       "      <td>2016 - Period:5</td>\n",
       "      <td>477.031994</td>\n",
       "      <td>1343454.0</td>\n",
       "      <td>28374.0</td>\n",
       "      <td>552197.8</td>\n",
       "      <td>3983.134</td>\n",
       "      <td>0.000016</td>\n",
       "      <td>0.000019</td>\n",
       "      <td>9.622004e+08</td>\n",
       "      <td>2842722.0</td>\n",
       "      <td>...</td>\n",
       "      <td>31.702433</td>\n",
       "      <td>25.300</td>\n",
       "      <td>100.509969</td>\n",
       "      <td>36.032016</td>\n",
       "      <td>42.602412</td>\n",
       "      <td>63.291934</td>\n",
       "      <td>2402211.102</td>\n",
       "      <td>629826.6484</td>\n",
       "      <td>0.065059</td>\n",
       "      <td>43.345578</td>\n",
       "    </tr>\n",
       "  </tbody>\n",
       "</table>\n",
       "<p>5 rows × 39 columns</p>\n",
       "</div>"
      ],
      "text/plain": [
       "            Period          EQ  Social_Search_Impressions  \\\n",
       "0  2016 - Period:1  504.784933                  2019283.0   \n",
       "1  2016 - Period:2  490.226477                  4564738.0   \n",
       "2  2016 - Period:3  479.244686                  1029384.0   \n",
       "3  2016 - Period:4  489.057428                   902938.0   \n",
       "4  2016 - Period:5  477.031994                  1343454.0   \n",
       "\n",
       "   Social_Search_Working_cost  Digital_Impressions  Digital_Working_cost  \\\n",
       "0                      5493.0              37148.2              2045.282   \n",
       "1                     12938.0              50886.8              2370.584   \n",
       "2                      6546.0             253333.2              3180.888   \n",
       "3                      3928.0            3426239.0             13595.398   \n",
       "4                     28374.0             552197.8              3983.134   \n",
       "\n",
       "   Print_Impressions.Ads40  Print_Working_Cost.Ads50  OOH_Impressions  \\\n",
       "0                 0.000012                  0.000012     1.203045e+09   \n",
       "1                 0.000014                  0.000015     1.944356e+09   \n",
       "2                 0.000016                  0.000017     9.984054e+08   \n",
       "3                 0.000016                  0.000019     3.039816e+09   \n",
       "4                 0.000016                  0.000019     9.622004e+08   \n",
       "\n",
       "   OOH_Working_Cost  ...  Magazine_Impressions_pct  TV_GRP  Competitor1_RPI  \\\n",
       "0         2220633.0  ...                 27.702433  21.300        97.173365   \n",
       "1          469895.0  ...                 21.432628  12.334        97.850760   \n",
       "2         4465061.0  ...                 29.726275  23.213        96.397739   \n",
       "3         1031855.0  ...                 30.326275  14.456        98.936519   \n",
       "4         2842722.0  ...                 31.702433  25.300       100.509969   \n",
       "\n",
       "   Competitor2_RPI  Competitor3_RPI  Competitor4_RPI  EQ_Category  \\\n",
       "0        35.557371        44.502717        63.377268  1728388.673   \n",
       "1        37.223072        45.720077        62.731742  1900859.879   \n",
       "2        40.800563        41.822953        62.090417  2036436.906   \n",
       "3        36.576140        41.578429        63.374358  2113635.013   \n",
       "4        36.032016        42.602412        63.291934  2402211.102   \n",
       "\n",
       "   EQ_Subcategory  pct_PromoMarketDollars_Subcategory  RPI_Subcategory  \n",
       "0     331927.5394                            0.162732        40.560563  \n",
       "1     334611.3806                            0.231650        40.046301  \n",
       "2     387148.3582                            0.125394        40.411115  \n",
       "3     482489.6740                            0.056603        42.213246  \n",
       "4     629826.6484                            0.065059        43.345578  \n",
       "\n",
       "[5 rows x 39 columns]"
      ]
     },
     "execution_count": 7,
     "metadata": {},
     "output_type": "execute_result"
    }
   ],
   "source": [
    "test.head()"
   ]
  },
  {
   "cell_type": "code",
   "execution_count": 8,
   "metadata": {},
   "outputs": [
    {
     "data": {
      "text/plain": [
       "Day                                   12000\n",
       "EQ                                    12000\n",
       "Social_Search_Impressions             11997\n",
       "Social_Search_Working_cost            11442\n",
       "Digital_Impressions                   11997\n",
       "Digital_Working_cost                  11819\n",
       "Print_Impressions.Ads40               11774\n",
       "Print_Working_Cost.Ads50              11621\n",
       "OOH_Impressions                       12000\n",
       "OOH_Working_Cost                      11987\n",
       "SOS_pct                                  50\n",
       "Digital_Impressions_pct                  50\n",
       "CCFOT                                    90\n",
       "Median_Temp                              47\n",
       "Median_Rainfall                       11293\n",
       "Fuel_Price                             2565\n",
       "Inflation                             11419\n",
       "Trade_Invest                           6865\n",
       "Brand_Equity                            159\n",
       "Avg_EQ_Price                           1778\n",
       "Any_Promo_pct_ACV                      8542\n",
       "Any_Feat_pct_ACV                        401\n",
       "Any_Disp_pct_ACV                       3911\n",
       "EQ_Base_Price                           271\n",
       "Est_ACV_Selling                       12000\n",
       "pct_ACV                                3114\n",
       "Avg_no_of_Items                        5683\n",
       "pct_PromoMarketDollars_Category       10454\n",
       "RPI_Category                           7007\n",
       "Magazine_Impressions_pct               4996\n",
       "TV_GRP                                 3236\n",
       "Competitor1_RPI                        2814\n",
       "Competitor2_RPI                        1355\n",
       "Competitor3_RPI                         655\n",
       "Competitor4_RPI                        1755\n",
       "EQ_Category                           11987\n",
       "EQ_Subcategory                        11899\n",
       "pct_PromoMarketDollars_Subcategory     3315\n",
       "RPI_Subcategory                        1779\n",
       "dtype: int64"
      ]
     },
     "execution_count": 8,
     "metadata": {},
     "output_type": "execute_result"
    }
   ],
   "source": [
    "train.nunique()"
   ]
  },
  {
   "cell_type": "code",
   "execution_count": 31,
   "metadata": {},
   "outputs": [
    {
     "data": {
      "text/plain": [
       "Index(['Day', 'EQ', 'Social_Search_Impressions', 'Social_Search_Working_cost',\n",
       "       'Digital_Impressions', 'Digital_Working_cost',\n",
       "       'Print_Impressions.Ads40', 'Print_Working_Cost.Ads50',\n",
       "       'OOH_Impressions', 'OOH_Working_Cost', 'SOS_pct',\n",
       "       'Digital_Impressions_pct', 'CCFOT', 'Median_Temp', 'Median_Rainfall',\n",
       "       'Fuel_Price', 'Inflation', 'Trade_Invest', 'Brand_Equity',\n",
       "       'Avg_EQ_Price', 'Any_Promo_pct_ACV', 'Any_Feat_pct_ACV',\n",
       "       'Any_Disp_pct_ACV', 'EQ_Base_Price', 'Est_ACV_Selling', 'pct_ACV',\n",
       "       'Avg_no_of_Items', 'pct_PromoMarketDollars_Category', 'RPI_Category',\n",
       "       'Magazine_Impressions_pct', 'TV_GRP', 'Competitor1_RPI',\n",
       "       'Competitor2_RPI', 'Competitor3_RPI', 'Competitor4_RPI', 'EQ_Category',\n",
       "       'EQ_Subcategory', 'pct_PromoMarketDollars_Subcategory',\n",
       "       'RPI_Subcategory'],\n",
       "      dtype='object')"
      ]
     },
     "execution_count": 31,
     "metadata": {},
     "output_type": "execute_result"
    }
   ],
   "source": [
    "train.columns"
   ]
  },
  {
   "cell_type": "markdown",
   "metadata": {},
   "source": [
    "## Metric Functions"
   ]
  },
  {
   "cell_type": "code",
   "execution_count": 60,
   "metadata": {},
   "outputs": [],
   "source": [
    "def mean_absolute_percentage_error(y_true, y_pred):\n",
    "    return np.mean(np.abs((y_true - y_pred) / y_true)) * 100"
   ]
  },
  {
   "cell_type": "code",
   "execution_count": 34,
   "metadata": {},
   "outputs": [],
   "source": [
    "def metric_lgb(y_pred, data):\n",
    "    y_true = data.get_label()\n",
    "    result = mean_absolute_percentage_error(y_true, y_pred)\n",
    "\n",
    "    return 'mape', result, False"
   ]
  },
  {
   "cell_type": "code",
   "execution_count": 39,
   "metadata": {},
   "outputs": [],
   "source": [
    "target = 'EQ'\n",
    "features = list(set(train.columns)-set(['EQ']))"
   ]
  },
  {
   "cell_type": "code",
   "execution_count": 40,
   "metadata": {},
   "outputs": [
    {
     "name": "stdout",
     "output_type": "stream",
     "text": [
      "38\n"
     ]
    },
    {
     "data": {
      "text/plain": [
       "['EQ_Subcategory',\n",
       " 'Social_Search_Impressions',\n",
       " 'Trade_Invest',\n",
       " 'Any_Feat_pct_ACV',\n",
       " 'Social_Search_Working_cost',\n",
       " 'RPI_Subcategory',\n",
       " 'Brand_Equity',\n",
       " 'Competitor2_RPI',\n",
       " 'Inflation',\n",
       " 'Median_Temp',\n",
       " 'Magazine_Impressions_pct',\n",
       " 'pct_PromoMarketDollars_Subcategory',\n",
       " 'Avg_no_of_Items',\n",
       " 'Day',\n",
       " 'Print_Working_Cost.Ads50',\n",
       " 'Competitor4_RPI',\n",
       " 'pct_PromoMarketDollars_Category',\n",
       " 'Print_Impressions.Ads40',\n",
       " 'RPI_Category',\n",
       " 'Digital_Working_cost',\n",
       " 'Est_ACV_Selling',\n",
       " 'EQ_Category',\n",
       " 'Digital_Impressions',\n",
       " 'Any_Promo_pct_ACV',\n",
       " 'Median_Rainfall',\n",
       " 'SOS_pct',\n",
       " 'OOH_Impressions',\n",
       " 'Digital_Impressions_pct',\n",
       " 'pct_ACV',\n",
       " 'Any_Disp_pct_ACV',\n",
       " 'Competitor1_RPI',\n",
       " 'Fuel_Price',\n",
       " 'Avg_EQ_Price',\n",
       " 'OOH_Working_Cost',\n",
       " 'TV_GRP',\n",
       " 'Competitor3_RPI',\n",
       " 'CCFOT',\n",
       " 'EQ_Base_Price']"
      ]
     },
     "execution_count": 40,
     "metadata": {},
     "output_type": "execute_result"
    }
   ],
   "source": [
    "print(len(features))\n",
    "features"
   ]
  },
  {
   "cell_type": "code",
   "execution_count": 41,
   "metadata": {},
   "outputs": [
    {
     "data": {
      "text/plain": [
       "EQ_Subcategory                          int64\n",
       "Social_Search_Impressions               int64\n",
       "Trade_Invest                            int64\n",
       "Any_Feat_pct_ACV                      float64\n",
       "Social_Search_Working_cost              int64\n",
       "RPI_Subcategory                       float64\n",
       "Brand_Equity                          float64\n",
       "Competitor2_RPI                       float64\n",
       "Inflation                             float64\n",
       "Median_Temp                             int64\n",
       "Magazine_Impressions_pct              float64\n",
       "pct_PromoMarketDollars_Subcategory    float64\n",
       "Avg_no_of_Items                       float64\n",
       "Day                                     int64\n",
       "Print_Working_Cost.Ads50                int64\n",
       "Competitor4_RPI                       float64\n",
       "pct_PromoMarketDollars_Category       float64\n",
       "Print_Impressions.Ads40                 int64\n",
       "RPI_Category                          float64\n",
       "Digital_Working_cost                    int64\n",
       "Est_ACV_Selling                         int64\n",
       "EQ_Category                             int64\n",
       "Digital_Impressions                     int64\n",
       "Any_Promo_pct_ACV                     float64\n",
       "Median_Rainfall                       float64\n",
       "SOS_pct                                 int64\n",
       "OOH_Impressions                         int64\n",
       "Digital_Impressions_pct                 int64\n",
       "pct_ACV                               float64\n",
       "Any_Disp_pct_ACV                      float64\n",
       "Competitor1_RPI                       float64\n",
       "Fuel_Price                            float64\n",
       "Avg_EQ_Price                          float64\n",
       "OOH_Working_Cost                        int64\n",
       "TV_GRP                                float64\n",
       "Competitor3_RPI                       float64\n",
       "CCFOT                                   int64\n",
       "EQ_Base_Price                         float64\n",
       "dtype: object"
      ]
     },
     "execution_count": 41,
     "metadata": {},
     "output_type": "execute_result"
    }
   ],
   "source": [
    "train[features].dtypes"
   ]
  },
  {
   "cell_type": "markdown",
   "metadata": {},
   "source": [
    "# Baseliner"
   ]
  },
  {
   "cell_type": "code",
   "execution_count": 61,
   "metadata": {},
   "outputs": [],
   "source": [
    "def baseliner(train, features, target, cv=3, metric=make_scorer(mean_absolute_percentage_error, greater_is_better=False)):\n",
    "    print(\"Baseliner Models(All)\")\n",
    "    eval_dict = {}\n",
    "    models = [\n",
    "        KNeighborsRegressor(), GaussianNB(), \n",
    "        lgb.LGBMRegressor(), ExtraTreesRegressor(), xgb.XGBRegressor(objective='reg:squarederror'), \n",
    "        cat.CatBoostRegressor(verbose=0), GradientBoostingRegressor(), RandomForestRegressor(), \n",
    "        LinearRegression(), DecisionTreeRegressor(), ExtraTreeRegressor(), AdaBoostRegressor(), \n",
    "        BaggingRegressor(), ElasticNet(), Lasso(), Ridge(), \n",
    "        ] #SVR(),\n",
    "    \n",
    "    print(\"sklearn Model Name  \\t  CV\")\n",
    "    print(\"--\" * 50)\n",
    "\n",
    "    for index, model in enumerate(models, 0):\n",
    "        model_name = str(model).split(\"(\")[0]\n",
    "        eval_dict[model_name] = {}\n",
    "\n",
    "        results = cross_val_score(model, train[features], train[target], cv=cv, scoring=metric)\n",
    "        eval_dict[model_name]['cv'] = -results.mean()\n",
    "\n",
    "        print(\"%s \\t %.4f \\t\" % (\n",
    "            model_name[:21], eval_dict[model_name]['cv']))"
   ]
  },
  {
   "cell_type": "code",
   "execution_count": 62,
   "metadata": {
    "scrolled": false
   },
   "outputs": [
    {
     "name": "stdout",
     "output_type": "stream",
     "text": [
      "Baseliner Models(All)\n",
      "sklearn Model Name  \t  CV\n",
      "----------------------------------------------------------------------------------------------------\n",
      "KNeighborsRegressor \t 1802.2332 \t\n",
      "GaussianNB \t nan \t\n",
      "LGBMRegressor \t 359.7219 \t\n",
      "ExtraTreesRegressor \t 156.6751 \t\n",
      "XGBRegressor \t 555.7041 \t\n",
      "<catboost.core.CatBoo \t 216.3297 \t\n",
      "GradientBoostingRegre \t 1270.6983 \t\n",
      "RandomForestRegressor \t 260.1800 \t\n",
      "LinearRegression \t 5644.4826 \t\n",
      "DecisionTreeRegressor \t 180.7072 \t\n",
      "ExtraTreeRegressor \t 218.9788 \t\n",
      "AdaBoostRegressor \t 5125.1377 \t\n",
      "BaggingRegressor \t 233.6558 \t\n",
      "ElasticNet \t 2153.2486 \t\n",
      "Lasso \t 5464.7172 \t\n",
      "Ridge \t 5511.5622 \t\n"
     ]
    }
   ],
   "source": [
    "baseliner(train, features, target, cv=3, metric=make_scorer(mean_absolute_percentage_error, False))"
   ]
  },
  {
   "cell_type": "markdown",
   "metadata": {},
   "source": [
    "### Some of the best performing models\n",
    "1. ExtraTreesRegressor\n",
    "2. DecisionTrees\n",
    "3. BaggingRegressor\n",
    "4. CatRegressor\n",
    "5. RandomForest "
   ]
  },
  {
   "cell_type": "markdown",
   "metadata": {},
   "source": [
    "## StandardScaling"
   ]
  },
  {
   "cell_type": "code",
   "execution_count": 73,
   "metadata": {},
   "outputs": [],
   "source": [
    "scaler = StandardScaler()\n",
    "X = scaler.fit_transform(train[features])\n",
    "y = train[target]"
   ]
  },
  {
   "cell_type": "code",
   "execution_count": 82,
   "metadata": {},
   "outputs": [],
   "source": [
    "def baselinerNorm(X, y,cv=3, metric=make_scorer(mean_absolute_percentage_error, greater_is_better=False)):\n",
    "    print(\"Baseliner Models(All)\")\n",
    "    eval_dict = {}\n",
    "    models = [\n",
    "        KNeighborsRegressor(), GaussianNB(), \n",
    "        lgb.LGBMRegressor(), ExtraTreesRegressor(), xgb.XGBRegressor(objective='reg:squarederror'), \n",
    "        cat.CatBoostRegressor(verbose=0), GradientBoostingRegressor(), RandomForestRegressor(), \n",
    "        LinearRegression(), DecisionTreeRegressor(), ExtraTreeRegressor(), AdaBoostRegressor(), \n",
    "        BaggingRegressor(), ElasticNet(), Lasso(), Ridge(), \n",
    "        ] #SVR(),\n",
    "    \n",
    "    print(\"sklearn Model Name  \\t  CV\")\n",
    "    print(\"--\" * 50)\n",
    "\n",
    "    for index, model in enumerate(models, 0):\n",
    "        model_name = str(model).split(\"(\")[0]\n",
    "        eval_dict[model_name] = {}\n",
    "\n",
    "        results = cross_val_score(model, X, y, cv=cv, scoring=metric)\n",
    "        eval_dict[model_name]['cv'] = -results.mean()\n",
    "\n",
    "        print(\"%s \\t %.4f \\t\" % (\n",
    "            model_name[:21], eval_dict[model_name]['cv']))"
   ]
  },
  {
   "cell_type": "code",
   "execution_count": 83,
   "metadata": {},
   "outputs": [
    {
     "name": "stdout",
     "output_type": "stream",
     "text": [
      "Baseliner Models(All)\n",
      "sklearn Model Name  \t  CV\n",
      "----------------------------------------------------------------------------------------------------\n",
      "KNeighborsRegressor \t 640.2778 \t\n",
      "GaussianNB \t nan \t\n",
      "LGBMRegressor \t 399.5259 \t\n",
      "ExtraTreesRegressor \t 159.3306 \t\n",
      "XGBRegressor \t 555.6683 \t\n",
      "<catboost.core.CatBoo \t 216.3319 \t\n",
      "GradientBoostingRegre \t 1269.5292 \t\n",
      "RandomForestRegressor \t 233.3909 \t\n",
      "LinearRegression \t 5644.4826 \t\n",
      "DecisionTreeRegressor \t 212.3217 \t\n",
      "ExtraTreeRegressor \t 194.5856 \t\n",
      "AdaBoostRegressor \t 5227.4172 \t\n",
      "BaggingRegressor \t 277.5543 \t\n",
      "ElasticNet \t 2938.0356 \t\n",
      "Lasso \t 5606.0412 \t\n",
      "Ridge \t 5643.4292 \t\n"
     ]
    }
   ],
   "source": [
    "baselinerNorm(X, y, cv=3, metric=make_scorer(mean_absolute_percentage_error, False))"
   ]
  },
  {
   "cell_type": "markdown",
   "metadata": {},
   "source": [
    "Note: Scaling the features did not improve the models"
   ]
  },
  {
   "cell_type": "markdown",
   "metadata": {},
   "source": [
    "## Splitting the Data into train and test"
   ]
  },
  {
   "cell_type": "code",
   "execution_count": null,
   "metadata": {},
   "outputs": [],
   "source": [
    "trainX, validX = train_test_split(train, test_size=0.2, shuffle=False, random_state=13)\n",
    "print(\"Train Shape : {}\\nValid Shape : {}\".format(trainX.shape, validX.shape))"
   ]
  },
  {
   "cell_type": "markdown",
   "metadata": {},
   "source": [
    "### Prediction "
   ]
  },
  {
   "cell_type": "code",
   "execution_count": 185,
   "metadata": {},
   "outputs": [],
   "source": [
    "# Fitting the Model and Prediction\n",
    "etr = ExtraTreesRegressor(random_state=7)\n",
    "etr.fit(trainX[features],trainX[target])\n",
    "y_pred_etr = etr.predict(validX[features])"
   ]
  },
  {
   "cell_type": "code",
   "execution_count": 188,
   "metadata": {},
   "outputs": [
    {
     "data": {
      "text/plain": [
       "148.8253040732517"
      ]
     },
     "execution_count": 188,
     "metadata": {},
     "output_type": "execute_result"
    }
   ],
   "source": [
    "validX['EQ_predicted'] = y_pred_etr\n",
    "mean_absolute_percentage_error(validX['EQ'],validX['EQ_predicted'])"
   ]
  },
  {
   "cell_type": "markdown",
   "metadata": {},
   "source": [
    "## Plot the feature Importance"
   ]
  },
  {
   "cell_type": "code",
   "execution_count": 239,
   "metadata": {},
   "outputs": [],
   "source": [
    "def plot_feature_importance(model,features):\n",
    "    feat_importances = pd.DataFrame({'Features':features,'Importance':model.feature_importances_})\n",
    "    feat_importances.sort_values(['Importance'],ascending=False,inplace=True)\n",
    "    sns.set(style=\"whitegrid\")\n",
    "    ax = sns.barplot(x=\"Importance\", y=\"Features\", orient='h', data=feat_importances)"
   ]
  },
  {
   "cell_type": "code",
   "execution_count": 240,
   "metadata": {},
   "outputs": [
    {
     "data": {
      "image/png": "[encoded data removed]",
      "text/plain": [
       "<Figure size 1080x576 with 1 Axes>"
      ]
     },
     "metadata": {},
     "output_type": "display_data"
    }
   ],
   "source": [
    "plot_feature_importance(br,features)"
   ]
  },
  {
   "cell_type": "markdown",
   "metadata": {},
   "source": [
    "## Major Divers of the EQ Sales by Considering the DayWise the Data\n",
    "1. Inflation\n",
    "2. pct_PromoMarketDollars_Category\n",
    "3. EQ_Category\n",
    "4. Social_Search_Impressions\t\n",
    "5. Median_Rainfall\n",
    "6. pct_PromoMarketDollars_Subcategory\n",
    "7. EQ_Subcategory\t\n",
    "\n",
    "The feature importance of the above **7 features** is **very high** compared to the rest of the features."
   ]
  },
  {
   "cell_type": "code",
   "execution_count": null,
   "metadata": {},
   "outputs": [],
   "source": []
  }
 ],
 "metadata": {
  "kernelspec": {
   "display_name": "Python 3",
   "language": "python",
   "name": "python3"
  },
  "language_info": {
   "codemirror_mode": {
    "name": "ipython",
    "version": 3
   },
   "file_extension": ".py",
   "mimetype": "text/x-python",
   "name": "python",
   "nbconvert_exporter": "python",
   "pygments_lexer": "ipython3",
   "version": "3.7.4"
  }
 },
 "nbformat": 4,
 "nbformat_minor": 2
}
